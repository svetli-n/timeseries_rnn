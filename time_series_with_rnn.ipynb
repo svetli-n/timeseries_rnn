{
 "cells": [
  {
   "cell_type": "code",
   "execution_count": 1,
   "metadata": {},
   "outputs": [
    {
     "name": "stderr",
     "output_type": "stream",
     "text": [
      "Using TensorFlow backend.\n"
     ]
    }
   ],
   "source": [
    "import numpy as np\n",
    "import pandas as pd\n",
    "from sklearn.preprocessing import MinMaxScaler\n",
    "from sklearn.metrics import mean_squared_error\n",
    "from keras.models import Sequential\n",
    "from keras.layers import LSTM, Dense\n",
    "\n",
    "from matplotlib import pyplot\n",
    "%matplotlib inline"
   ]
  },
  {
   "cell_type": "markdown",
   "metadata": {},
   "source": [
    "### Introduction\n",
    "\n",
    "This is an experiment in time series forecasting, using recurrent neural network (RNN). Time series data is a set of access log entries, containing timestamps. One can solve the problem with other methods, such as manual feature engineering + xgboost, etc.\n",
    "\n",
    "After looking at data, I will formulate the problem I want to solve and will translorm data to fit the problem. I will then provide 2 solutions: a simple baseline solution and RNN solution. After evaluating the RNN solution, I will end up with short discussion on ways to improve it."
   ]
  },
  {
   "cell_type": "markdown",
   "metadata": {},
   "source": [
    "### Raw data"
   ]
  },
  {
   "cell_type": "code",
   "execution_count": 2,
   "metadata": {},
   "outputs": [
    {
     "data": {
      "text/html": [
       "<div>\n",
       "<style>\n",
       "    .dataframe thead tr:only-child th {\n",
       "        text-align: right;\n",
       "    }\n",
       "\n",
       "    .dataframe thead th {\n",
       "        text-align: left;\n",
       "    }\n",
       "\n",
       "    .dataframe tbody tr th {\n",
       "        vertical-align: top;\n",
       "    }\n",
       "</style>\n",
       "<table border=\"1\" class=\"dataframe\">\n",
       "  <thead>\n",
       "    <tr style=\"text-align: right;\">\n",
       "      <th></th>\n",
       "      <th>0</th>\n",
       "      <th>1</th>\n",
       "      <th>2</th>\n",
       "      <th>3</th>\n",
       "      <th>4</th>\n",
       "      <th>5</th>\n",
       "      <th>6</th>\n",
       "      <th>7</th>\n",
       "      <th>8</th>\n",
       "      <th>9</th>\n",
       "      <th>10</th>\n",
       "      <th>11</th>\n",
       "      <th>12</th>\n",
       "      <th>13</th>\n",
       "    </tr>\n",
       "  </thead>\n",
       "  <tbody>\n",
       "    <tr>\n",
       "      <th>0</th>\n",
       "      <td>147.214.18.128</td>\n",
       "      <td>-</td>\n",
       "      <td>-</td>\n",
       "      <td>2016-11-27</td>\n",
       "      <td>03:16:03</td>\n",
       "      <td>100</td>\n",
       "      <td>GET /rawdata-dispatcher/progress/count?executi...</td>\n",
       "      <td>rc:200</td>\n",
       "      <td>22</td>\n",
       "      <td>-</td>\n",
       "      <td>Apache-HttpClient/4.3.3 (java 1.5)</td>\n",
       "      <td>in:244</td>\n",
       "      <td>out:223</td>\n",
       "      <td>us:2545</td>\n",
       "    </tr>\n",
       "    <tr>\n",
       "      <th>1</th>\n",
       "      <td>147.214.18.128</td>\n",
       "      <td>-</td>\n",
       "      <td>-</td>\n",
       "      <td>2016-11-27</td>\n",
       "      <td>03:16:05</td>\n",
       "      <td>100</td>\n",
       "      <td>GET /rawdata-dispatcher/progress/count?executi...</td>\n",
       "      <td>rc:200</td>\n",
       "      <td>21</td>\n",
       "      <td>-</td>\n",
       "      <td>Apache-HttpClient/4.3.3 (java 1.5)</td>\n",
       "      <td>in:244</td>\n",
       "      <td>out:222</td>\n",
       "      <td>us:2187</td>\n",
       "    </tr>\n",
       "    <tr>\n",
       "      <th>2</th>\n",
       "      <td>localhost</td>\n",
       "      <td>-</td>\n",
       "      <td>-</td>\n",
       "      <td>2016-11-27</td>\n",
       "      <td>03:16:07</td>\n",
       "      <td>100</td>\n",
       "      <td>GET /server-status?auto HTTP/1.1</td>\n",
       "      <td>rc:200</td>\n",
       "      <td>387</td>\n",
       "      <td>-</td>\n",
       "      <td>collectd/5.5.1</td>\n",
       "      <td>in:94</td>\n",
       "      <td>out:585</td>\n",
       "      <td>us:475</td>\n",
       "    </tr>\n",
       "    <tr>\n",
       "      <th>3</th>\n",
       "      <td>147.214.18.128</td>\n",
       "      <td>-</td>\n",
       "      <td>-</td>\n",
       "      <td>2016-11-27</td>\n",
       "      <td>03:16:08</td>\n",
       "      <td>100</td>\n",
       "      <td>GET /rawdata-dispatcher/progress/count?executi...</td>\n",
       "      <td>rc:200</td>\n",
       "      <td>22</td>\n",
       "      <td>-</td>\n",
       "      <td>Apache-HttpClient/4.3.3 (java 1.5)</td>\n",
       "      <td>in:244</td>\n",
       "      <td>out:223</td>\n",
       "      <td>us:1835</td>\n",
       "    </tr>\n",
       "    <tr>\n",
       "      <th>4</th>\n",
       "      <td>147.214.18.128</td>\n",
       "      <td>-</td>\n",
       "      <td>-</td>\n",
       "      <td>2016-11-27</td>\n",
       "      <td>03:16:08</td>\n",
       "      <td>100</td>\n",
       "      <td>GET /rawdata-dispatcher/progress/list?executio...</td>\n",
       "      <td>rc:200</td>\n",
       "      <td>4554</td>\n",
       "      <td>-</td>\n",
       "      <td>Apache-HttpClient/4.3.3 (java 1.5)</td>\n",
       "      <td>in:259</td>\n",
       "      <td>out:4757</td>\n",
       "      <td>us:3021</td>\n",
       "    </tr>\n",
       "  </tbody>\n",
       "</table>\n",
       "</div>"
      ],
      "text/plain": [
       "               0  1  2           3         4    5   \\\n",
       "0  147.214.18.128  -  -  2016-11-27  03:16:03  100   \n",
       "1  147.214.18.128  -  -  2016-11-27  03:16:05  100   \n",
       "2       localhost  -  -  2016-11-27  03:16:07  100   \n",
       "3  147.214.18.128  -  -  2016-11-27  03:16:08  100   \n",
       "4  147.214.18.128  -  -  2016-11-27  03:16:08  100   \n",
       "\n",
       "                                                  6       7     8  9   \\\n",
       "0  GET /rawdata-dispatcher/progress/count?executi...  rc:200    22  -   \n",
       "1  GET /rawdata-dispatcher/progress/count?executi...  rc:200    21  -   \n",
       "2                   GET /server-status?auto HTTP/1.1  rc:200   387  -   \n",
       "3  GET /rawdata-dispatcher/progress/count?executi...  rc:200    22  -   \n",
       "4  GET /rawdata-dispatcher/progress/list?executio...  rc:200  4554  -   \n",
       "\n",
       "                                   10      11        12       13  \n",
       "0  Apache-HttpClient/4.3.3 (java 1.5)  in:244   out:223  us:2545  \n",
       "1  Apache-HttpClient/4.3.3 (java 1.5)  in:244   out:222  us:2187  \n",
       "2                      collectd/5.5.1   in:94   out:585   us:475  \n",
       "3  Apache-HttpClient/4.3.3 (java 1.5)  in:244   out:223  us:1835  \n",
       "4  Apache-HttpClient/4.3.3 (java 1.5)  in:259  out:4757  us:3021  "
      ]
     },
     "execution_count": 2,
     "metadata": {},
     "output_type": "execute_result"
    }
   ],
   "source": [
    "df = pd.read_csv('access_logs_201612.txt', sep=' ', header=None)\n",
    "df.head()"
   ]
  },
  {
   "cell_type": "markdown",
   "metadata": {},
   "source": [
    "This is a typical access log entry, showing what requests are made to a server, along with request info such as the origin of a request (column 0), the time it is made (columns 3 and 4), etc.\n",
    "\n",
    "In such system one might want to know how many requests per time unit are expected in the near future (e.g in the coming 24 hours). Knowing this can be used for tasks such as resource optimization, where one uses various number of servers to respond well to request spikes.\n",
    "\n",
    "For training efficiency, I will transform log data to requests per hour, so there is less data to work with."
   ]
  },
  {
   "cell_type": "markdown",
   "metadata": {},
   "source": [
    "### Transformed data"
   ]
  },
  {
   "cell_type": "code",
   "execution_count": 3,
   "metadata": {},
   "outputs": [],
   "source": [
    "def load_logfile():\n",
    "    df = pd.read_csv(\n",
    "        'access_logs_201612.txt', \n",
    "        sep=' ', \n",
    "        header=None, \n",
    "        parse_dates={'timestamp': [3, 4]}, \n",
    "        date_parser=lambda x: pd.datetime.strptime(x, '%Y-%m-%d %H:%M:%S')\n",
    "    )\n",
    "    df['dayofyear'] = df.timestamp.dt.dayofyear\n",
    "    df['hour'] = df.timestamp.dt.hour\n",
    "    data = pd.DataFrame(df.groupby(['dayofyear', 'hour'])\n",
    "                        .count()\n",
    "                        .reset_index()\n",
    "                       ).rename(columns={'timestamp': 'requests_per_hour'})\n",
    "    return data['requests_per_hour']"
   ]
  },
  {
   "cell_type": "code",
   "execution_count": 4,
   "metadata": {},
   "outputs": [],
   "source": [
    "requests_per_hour = load_logfile()"
   ]
  },
  {
   "cell_type": "code",
   "execution_count": 5,
   "metadata": {},
   "outputs": [
    {
     "data": {
      "text/plain": [
       "0    5163\n",
       "1    7129\n",
       "2    7593\n",
       "3    8951\n",
       "4    5429\n",
       "Name: requests_per_hour, dtype: int64"
      ]
     },
     "execution_count": 5,
     "metadata": {},
     "output_type": "execute_result"
    }
   ],
   "source": [
    "requests_per_hour.head()"
   ]
  },
  {
   "cell_type": "code",
   "execution_count": 6,
   "metadata": {},
   "outputs": [
    {
     "data": {
      "text/plain": [
       "<matplotlib.axes._subplots.AxesSubplot at 0x7f8104ea4240>"
      ]
     },
     "execution_count": 6,
     "metadata": {},
     "output_type": "execute_result"
    },
    {
     "data": {
      "image/png": "[encoded data removed]",
      "text/plain": [
       "<matplotlib.figure.Figure at 0x7f8104ea4ac8>"
      ]
     },
     "metadata": {},
     "output_type": "display_data"
    }
   ],
   "source": [
    "requests_per_hour.plot(title='requests per hour', color='blue')"
   ]
  },
  {
   "cell_type": "markdown",
   "metadata": {},
   "source": [
    "We see that in the first hour there were 5163 requests, followed by 7129 requests in the second hour, etc. The graph above shows all request counts."
   ]
  },
  {
   "cell_type": "code",
   "execution_count": 7,
   "metadata": {},
   "outputs": [
    {
     "data": {
      "text/plain": [
       "394"
      ]
     },
     "execution_count": 7,
     "metadata": {},
     "output_type": "execute_result"
    }
   ],
   "source": [
    "len(requests_per_hour)"
   ]
  },
  {
   "cell_type": "code",
   "execution_count": 8,
   "metadata": {},
   "outputs": [],
   "source": [
    "num_test = 24"
   ]
  },
  {
   "cell_type": "markdown",
   "metadata": {},
   "source": [
    "There are 394 data entries. I will try to predict the counts for the last 24 (num_test) hours in this sequence."
   ]
  },
  {
   "cell_type": "markdown",
   "metadata": {},
   "source": [
    "### Baseline\n",
    "\n",
    "Since I want to evaluate the performance of the RNN model, I need a baseline model to evaluate against. One possible prediction/model of the number of requests in the next hour is to say that there will be as many as in the current hour. This is obviously quite an naive approach but it makes a good baseline. That is, if RNN does not perform better than baseline, RNN would not be a good approach to solve this problem."
   ]
  },
  {
   "cell_type": "code",
   "execution_count": 9,
   "metadata": {},
   "outputs": [],
   "source": [
    "Y = requests_per_hour[-num_test:]"
   ]
  },
  {
   "cell_type": "code",
   "execution_count": 10,
   "metadata": {},
   "outputs": [],
   "source": [
    "Preds = Y.shift().values\n",
    "Preds[0] = requests_per_hour[len(requests_per_hour)-num_test-1]\n",
    "Y = Y.values"
   ]
  },
  {
   "cell_type": "code",
   "execution_count": 11,
   "metadata": {},
   "outputs": [
    {
     "data": {
      "text/plain": [
       "[<matplotlib.lines.Line2D at 0x7f810e391710>]"
      ]
     },
     "execution_count": 11,
     "metadata": {},
     "output_type": "execute_result"
    },
    {
     "data": {
      "image/png": "[encoded data removed]",
      "text/plain": [
       "<matplotlib.figure.Figure at 0x7f810e3917b8>"
      ]
     },
     "metadata": {},
     "output_type": "display_data"
    }
   ],
   "source": [
    "pyplot.plot(Y, color='blue')\n",
    "pyplot.plot(Preds, color='red')"
   ]
  },
  {
   "cell_type": "code",
   "execution_count": 12,
   "metadata": {},
   "outputs": [
    {
     "data": {
      "text/plain": [
       "6064985.166666667"
      ]
     },
     "execution_count": 12,
     "metadata": {},
     "output_type": "execute_result"
    }
   ],
   "source": [
    "baseline_mse = mean_squared_error(Y, Preds)\n",
    "baseline_mse"
   ]
  },
  {
   "cell_type": "markdown",
   "metadata": {},
   "source": [
    "I measure mean squared error (mse) because it is the metric I use in the RNN model below."
   ]
  },
  {
   "cell_type": "markdown",
   "metadata": {},
   "source": [
    "### RNN model"
   ]
  },
  {
   "cell_type": "code",
   "execution_count": 13,
   "metadata": {
    "scrolled": true
   },
   "outputs": [],
   "source": [
    "def scale(X):\n",
    "    scaler = MinMaxScaler(feature_range=[-1, 1])\n",
    "    X = X.astype('float64')\n",
    "    X = scaler.fit_transform(X.values.reshape(-1, 1))\n",
    "    return scaler, pd.Series(X.flatten())"
   ]
  },
  {
   "cell_type": "code",
   "execution_count": 14,
   "metadata": {},
   "outputs": [],
   "source": [
    "scaler, X = scale(requests_per_hour)"
   ]
  },
  {
   "cell_type": "markdown",
   "metadata": {},
   "source": [
    "I scale data in the range [1-, 1] since it is the range used by the LSTM activation function in the RNN model below. Then I split data into train and test parts.\n",
    "\n",
    "I train the model with x_train, y_train. Then I make predictions on x_test and compare them with y_test."
   ]
  },
  {
   "cell_type": "code",
   "execution_count": 15,
   "metadata": {},
   "outputs": [],
   "source": [
    "def get_xy(X):\n",
    "    Y = X\n",
    "    X = X.shift()\n",
    "    X[0] = 0\n",
    "    assert len(X) == len(Y)\n",
    "    return X, Y"
   ]
  },
  {
   "cell_type": "code",
   "execution_count": 16,
   "metadata": {},
   "outputs": [],
   "source": [
    "X, Y = get_xy(X)"
   ]
  },
  {
   "cell_type": "code",
   "execution_count": 17,
   "metadata": {},
   "outputs": [],
   "source": [
    "def get_train_test(X, Y, num_test=int(0.2*len(X))):\n",
    "    return X[:-num_test], Y[:-num_test], X[-num_test:], Y[-num_test:]"
   ]
  },
  {
   "cell_type": "code",
   "execution_count": 18,
   "metadata": {},
   "outputs": [],
   "source": [
    "x_train, y_train, x_test, y_test = get_train_test(X, Y, num_test=num_test)"
   ]
  },
  {
   "cell_type": "code",
   "execution_count": 19,
   "metadata": {},
   "outputs": [
    {
     "data": {
      "text/plain": [
       "(370, 370, 24, 24)"
      ]
     },
     "execution_count": 19,
     "metadata": {},
     "output_type": "execute_result"
    }
   ],
   "source": [
    "len(x_train), len(y_train), len(x_test), len(y_test)"
   ]
  },
  {
   "cell_type": "markdown",
   "metadata": {},
   "source": [
    "#### Create model"
   ]
  },
  {
   "cell_type": "code",
   "execution_count": 20,
   "metadata": {},
   "outputs": [],
   "source": [
    "def get_model(units=1, batch_input_shape=(1, 1, 1)):\n",
    "    model = Sequential([\n",
    "        LSTM(units=units, stateful=True, batch_input_shape=batch_input_shape),\n",
    "        Dense(1, activation='linear')\n",
    "    ])\n",
    "    model.compile(optimizer='adam', loss='mse')\n",
    "    return model"
   ]
  },
  {
   "cell_type": "markdown",
   "metadata": {},
   "source": [
    "Simple stateful model with mse (mean square error) loss function."
   ]
  },
  {
   "cell_type": "code",
   "execution_count": 21,
   "metadata": {},
   "outputs": [],
   "source": [
    "def fit_model(x, y, units=1, epochs=10, verbose=0):\n",
    "    model = get_model(units=units)\n",
    "    for i in range(epochs):\n",
    "        model.fit(\n",
    "            x.values.reshape(x.shape[0], 1, 1), \n",
    "            y, \n",
    "            batch_size=1, \n",
    "            epochs=1, \n",
    "            shuffle=False,\n",
    "            verbose=verbose,\n",
    "            validation_split=0.2\n",
    "        )\n",
    "        model.reset_states()\n",
    "    return model"
   ]
  },
  {
   "cell_type": "markdown",
   "metadata": {},
   "source": [
    "The model is trained with x.shape[0] samples, to generate 1 prediction ahead, with sample size of 1 (requests per hour count). I set suffle to False to keep the ordered nature of data."
   ]
  },
  {
   "cell_type": "code",
   "execution_count": 22,
   "metadata": {},
   "outputs": [],
   "source": [
    "model = fit_model(x_train, y_train, units=5, epochs=5)"
   ]
  },
  {
   "cell_type": "markdown",
   "metadata": {},
   "source": [
    "#### Are we under/overfitting?"
   ]
  },
  {
   "cell_type": "code",
   "execution_count": 23,
   "metadata": {},
   "outputs": [],
   "source": [
    "def predict_visualize(x, y, scaler):\n",
    "    preds = model.predict(x.values.reshape(x.shape[0], 1, 1), batch_size=1)\n",
    "    y_inv = scaler.inverse_transform(y.values.reshape(-1, 1))\n",
    "    preds_inv = scaler.inverse_transform(preds)\n",
    "\n",
    "    pyplot.title('Actual vs. predicted requests per hour')\n",
    "    pyplot.plot(y_inv, color='blue')\n",
    "    pyplot.plot(preds_inv, color='red')\n",
    "    \n",
    "    rnn_mse = mean_squared_error(y_inv, preds_inv)\n",
    "    return rnn_mse"
   ]
  },
  {
   "cell_type": "code",
   "execution_count": 24,
   "metadata": {},
   "outputs": [
    {
     "data": {
      "text/plain": [
       "7348315.5062668156"
      ]
     },
     "execution_count": 24,
     "metadata": {},
     "output_type": "execute_result"
    },
    {
     "data": {
      "image/png": "[encoded data removed]",
      "text/plain": [
       "<matplotlib.figure.Figure at 0x7f81100f2dd8>"
      ]
     },
     "metadata": {},
     "output_type": "display_data"
    }
   ],
   "source": [
    "predict_visualize(x_train, y_train, scaler)"
   ]
  },
  {
   "cell_type": "markdown",
   "metadata": {},
   "source": [
    "Unsuprisingly (due to the low number of epochs) the model doesn't model data very well, that is it has high bias, so it underfits data. Some ways to solve this is to increase the number of epochs in training and/or to increase the model complexity, e.g. number of units."
   ]
  },
  {
   "cell_type": "markdown",
   "metadata": {},
   "source": [
    "#### Predict and visualize"
   ]
  },
  {
   "cell_type": "code",
   "execution_count": 25,
   "metadata": {
    "scrolled": true
   },
   "outputs": [
    {
     "data": {
      "image/png": "[encoded data removed]",
      "text/plain": [
       "<matplotlib.figure.Figure at 0x7f810e391f98>"
      ]
     },
     "metadata": {},
     "output_type": "display_data"
    }
   ],
   "source": [
    "rnn_mse = predict_visualize(x_test, y_test, scaler)"
   ]
  },
  {
   "cell_type": "markdown",
   "metadata": {},
   "source": [
    "### Model comparision"
   ]
  },
  {
   "cell_type": "code",
   "execution_count": 26,
   "metadata": {},
   "outputs": [
    {
     "data": {
      "text/plain": [
       "True"
      ]
     },
     "execution_count": 26,
     "metadata": {},
     "output_type": "execute_result"
    }
   ],
   "source": [
    "rnn_mse < baseline_mse"
   ]
  },
  {
   "cell_type": "markdown",
   "metadata": {},
   "source": [
    "The RNN model seems better than baseline since its error is smaller. For better/more robust estimate of the RNN model performance one needs to take the average/median mse from multiple train/predict phases. Yet the model suffers from high bias, so it requires improvement."
   ]
  },
  {
   "cell_type": "markdown",
   "metadata": {},
   "source": [
    "### Next steps "
   ]
  },
  {
   "cell_type": "markdown",
   "metadata": {},
   "source": [
    "The RNN solution might be improved in different ways. Some thigs worth trying are the following:\n",
    "\n",
    "* Grid search to find better parameter values for (at least) number of epochs and LSTM units (see high bias above)\n",
    "* Helping the model by adding domain knowledge/\"hand-made\" features such as dayofweek or day/night\n",
    "* Using alternative architecture, e.g stacking stateless LSTMs, etc"
   ]
  },
  {
   "cell_type": "code",
   "execution_count": null,
   "metadata": {},
   "outputs": [],
   "source": []
  }
 ],
 "metadata": {
  "kernelspec": {
   "display_name": "Python 3",
   "language": "python",
   "name": "python3"
  },
  "language_info": {
   "codemirror_mode": {
    "name": "ipython",
    "version": 3
   },
   "file_extension": ".py",
   "mimetype": "text/x-python",
   "name": "python",
   "nbconvert_exporter": "python",
   "pygments_lexer": "ipython3",
   "version": "3.6.3"
  }
 },
 "nbformat": 4,
 "nbformat_minor": 2
}
